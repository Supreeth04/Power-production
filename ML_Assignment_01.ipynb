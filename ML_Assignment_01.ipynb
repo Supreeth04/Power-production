{
  "nbformat": 4,
  "nbformat_minor": 0,
  "metadata": {
    "colab": {
      "name": "ML Assignment - 01.ipynb",
      "provenance": []
    },
    "kernelspec": {
      "name": "python3",
      "display_name": "Python 3"
    },
    "language_info": {
      "name": "python"
    }
  },
  "cells": [
    {
      "cell_type": "markdown",
      "metadata": {
        "id": "G67ebH5h3Tnu"
      },
      "source": [
        "# Linear Regression on power generation in India from 2017 to 2020."
      ]
    },
    {
      "cell_type": "markdown",
      "metadata": {
        "id": "Ahj9yN0ZXPeu"
      },
      "source": [
        "# Importing the necessary libraries such as numpy, pandas, matplotlib, etc ..,"
      ]
    },
    {
      "cell_type": "code",
      "metadata": {
        "id": "LwqmdQ-hVlDS"
      },
      "source": [
        "# Importing the required libriaries.\n",
        "import numpy as np\n",
        "import pandas as pd\n",
        "import matplotlib.pyplot as plt\n",
        "from sklearn import linear_model"
      ],
      "execution_count": null,
      "outputs": []
    },
    {
      "cell_type": "code",
      "metadata": {
        "id": "HqVAwQKiXzVE"
      },
      "source": [
        "from sklearn.preprocessing import LabelEncoder, StandardScaler\n",
        "from sklearn.model_selection import train_test_split\n",
        "from sklearn.metrics import r2_score"
      ],
      "execution_count": null,
      "outputs": []
    },
    {
      "cell_type": "markdown",
      "metadata": {
        "id": "nMVLQ30oX3PB"
      },
      "source": [
        "# Importing the required dataset. In my case it is Power generation in India form 2017 to 2020."
      ]
    },
    {
      "cell_type": "code",
      "metadata": {
        "id": "tz7Td1mqdNpa"
      },
      "source": [
        "# Importing the dataset.\n",
        "data_frame = pd.read_csv('/content/dataset.csv')"
      ],
      "execution_count": null,
      "outputs": []
    },
    {
      "cell_type": "code",
      "metadata": {
        "colab": {
          "base_uri": "https://localhost:8080/",
          "height": 602
        },
        "id": "cHyoH6jj-slb",
        "outputId": "7edb25a0-2210-4430-e5a6-f7f148deb790"
      },
      "source": [
        "# Cross verifying / Checking the dataset values.\n",
        "\n",
        "\n",
        "data_frame"
      ],
      "execution_count": null,
      "outputs": [
        {
          "output_type": "execute_result",
          "data": {
            "text/html": [
              "<div>\n",
              "<style scoped>\n",
              "    .dataframe tbody tr th:only-of-type {\n",
              "        vertical-align: middle;\n",
              "    }\n",
              "\n",
              "    .dataframe tbody tr th {\n",
              "        vertical-align: top;\n",
              "    }\n",
              "\n",
              "    .dataframe thead th {\n",
              "        text-align: right;\n",
              "    }\n",
              "</style>\n",
              "<table border=\"1\" class=\"dataframe\">\n",
              "  <thead>\n",
              "    <tr style=\"text-align: right;\">\n",
              "      <th></th>\n",
              "      <th>index</th>\n",
              "      <th>Date</th>\n",
              "      <th>Region</th>\n",
              "      <th>Thermal Generation Actual (in MU)</th>\n",
              "      <th>Thermal Generation Estimated (in MU)</th>\n",
              "      <th>Nuclear Generation Actual (in MU)</th>\n",
              "      <th>Nuclear Generation Estimated (in MU)</th>\n",
              "      <th>Hydro Generation Actual (in MU)</th>\n",
              "      <th>Hydro Generation Estimated (in MU)</th>\n",
              "    </tr>\n",
              "  </thead>\n",
              "  <tbody>\n",
              "    <tr>\n",
              "      <th>0</th>\n",
              "      <td>0</td>\n",
              "      <td>2017-09-01</td>\n",
              "      <td>Northern</td>\n",
              "      <td>624.23</td>\n",
              "      <td>484.21</td>\n",
              "      <td>30.36</td>\n",
              "      <td>35.57</td>\n",
              "      <td>273.27</td>\n",
              "      <td>320.81</td>\n",
              "    </tr>\n",
              "    <tr>\n",
              "      <th>1</th>\n",
              "      <td>1</td>\n",
              "      <td>2017-09-01</td>\n",
              "      <td>Western</td>\n",
              "      <td>1,106.89</td>\n",
              "      <td>1,024.33</td>\n",
              "      <td>25.17</td>\n",
              "      <td>3.81</td>\n",
              "      <td>72.00</td>\n",
              "      <td>21.53</td>\n",
              "    </tr>\n",
              "    <tr>\n",
              "      <th>2</th>\n",
              "      <td>2</td>\n",
              "      <td>2017-09-01</td>\n",
              "      <td>Southern</td>\n",
              "      <td>576.66</td>\n",
              "      <td>578.55</td>\n",
              "      <td>62.73</td>\n",
              "      <td>49.80</td>\n",
              "      <td>111.57</td>\n",
              "      <td>64.78</td>\n",
              "    </tr>\n",
              "    <tr>\n",
              "      <th>3</th>\n",
              "      <td>3</td>\n",
              "      <td>2017-09-01</td>\n",
              "      <td>Eastern</td>\n",
              "      <td>441.02</td>\n",
              "      <td>429.39</td>\n",
              "      <td>NaN</td>\n",
              "      <td>NaN</td>\n",
              "      <td>85.94</td>\n",
              "      <td>69.36</td>\n",
              "    </tr>\n",
              "    <tr>\n",
              "      <th>4</th>\n",
              "      <td>4</td>\n",
              "      <td>2017-09-01</td>\n",
              "      <td>NorthEastern</td>\n",
              "      <td>29.11</td>\n",
              "      <td>15.91</td>\n",
              "      <td>NaN</td>\n",
              "      <td>NaN</td>\n",
              "      <td>24.64</td>\n",
              "      <td>21.21</td>\n",
              "    </tr>\n",
              "    <tr>\n",
              "      <th>...</th>\n",
              "      <td>...</td>\n",
              "      <td>...</td>\n",
              "      <td>...</td>\n",
              "      <td>...</td>\n",
              "      <td>...</td>\n",
              "      <td>...</td>\n",
              "      <td>...</td>\n",
              "      <td>...</td>\n",
              "      <td>...</td>\n",
              "    </tr>\n",
              "    <tr>\n",
              "      <th>4940</th>\n",
              "      <td>305</td>\n",
              "      <td>2020-08-01</td>\n",
              "      <td>Northern</td>\n",
              "      <td>669.47</td>\n",
              "      <td>602.96</td>\n",
              "      <td>26.88</td>\n",
              "      <td>23.41</td>\n",
              "      <td>348.72</td>\n",
              "      <td>351.98</td>\n",
              "    </tr>\n",
              "    <tr>\n",
              "      <th>4941</th>\n",
              "      <td>306</td>\n",
              "      <td>2020-08-01</td>\n",
              "      <td>Western</td>\n",
              "      <td>1,116.00</td>\n",
              "      <td>1,262.10</td>\n",
              "      <td>42.37</td>\n",
              "      <td>36.63</td>\n",
              "      <td>54.67</td>\n",
              "      <td>20.28</td>\n",
              "    </tr>\n",
              "    <tr>\n",
              "      <th>4942</th>\n",
              "      <td>307</td>\n",
              "      <td>2020-08-01</td>\n",
              "      <td>Southern</td>\n",
              "      <td>494.66</td>\n",
              "      <td>415.53</td>\n",
              "      <td>61.83</td>\n",
              "      <td>26.28</td>\n",
              "      <td>93.49</td>\n",
              "      <td>77.25</td>\n",
              "    </tr>\n",
              "    <tr>\n",
              "      <th>4943</th>\n",
              "      <td>308</td>\n",
              "      <td>2020-08-01</td>\n",
              "      <td>Eastern</td>\n",
              "      <td>482.86</td>\n",
              "      <td>547.03</td>\n",
              "      <td>NaN</td>\n",
              "      <td>NaN</td>\n",
              "      <td>87.22</td>\n",
              "      <td>93.78</td>\n",
              "    </tr>\n",
              "    <tr>\n",
              "      <th>4944</th>\n",
              "      <td>309</td>\n",
              "      <td>2020-08-01</td>\n",
              "      <td>NorthEastern</td>\n",
              "      <td>34.42</td>\n",
              "      <td>32.81</td>\n",
              "      <td>NaN</td>\n",
              "      <td>NaN</td>\n",
              "      <td>29.87</td>\n",
              "      <td>29.96</td>\n",
              "    </tr>\n",
              "  </tbody>\n",
              "</table>\n",
              "<p>4945 rows × 9 columns</p>\n",
              "</div>"
            ],
            "text/plain": [
              "      index  ... Hydro Generation Estimated (in MU)\n",
              "0         0  ...                             320.81\n",
              "1         1  ...                              21.53\n",
              "2         2  ...                              64.78\n",
              "3         3  ...                              69.36\n",
              "4         4  ...                              21.21\n",
              "...     ...  ...                                ...\n",
              "4940    305  ...                             351.98\n",
              "4941    306  ...                              20.28\n",
              "4942    307  ...                              77.25\n",
              "4943    308  ...                              93.78\n",
              "4944    309  ...                              29.96\n",
              "\n",
              "[4945 rows x 9 columns]"
            ]
          },
          "metadata": {
            "tags": []
          },
          "execution_count": 18
        }
      ]
    },
    {
      "cell_type": "code",
      "metadata": {
        "colab": {
          "base_uri": "https://localhost:8080/"
        },
        "id": "jRHruQ57BA0q",
        "outputId": "52949fa3-b93b-4692-9d95-6069989e59f5"
      },
      "source": [
        "data_frame.info()"
      ],
      "execution_count": null,
      "outputs": [
        {
          "output_type": "stream",
          "text": [
            "<class 'pandas.core.frame.DataFrame'>\n",
            "RangeIndex: 4945 entries, 0 to 4944\n",
            "Data columns (total 9 columns):\n",
            " #   Column                                Non-Null Count  Dtype  \n",
            "---  ------                                --------------  -----  \n",
            " 0   index                                 4945 non-null   int64  \n",
            " 1   Date                                  4945 non-null   object \n",
            " 2   Region                                4945 non-null   object \n",
            " 3   Thermal Generation Actual (in MU)     4945 non-null   object \n",
            " 4   Thermal Generation Estimated (in MU)  4945 non-null   object \n",
            " 5   Nuclear Generation Actual (in MU)     4945 non-null   float64\n",
            " 6   Nuclear Generation Estimated (in MU)  4945 non-null   float64\n",
            " 7   Hydro Generation Actual (in MU)       4945 non-null   float64\n",
            " 8   Hydro Generation Estimated (in MU)    4945 non-null   float64\n",
            "dtypes: float64(4), int64(1), object(4)\n",
            "memory usage: 347.8+ KB\n"
          ],
          "name": "stdout"
        }
      ]
    },
    {
      "cell_type": "markdown",
      "metadata": {
        "id": "9xVfEBkppCZX"
      },
      "source": [
        "# Changing values from object to float."
      ]
    },
    {
      "cell_type": "code",
      "metadata": {
        "id": "TFyaEDA6BUMR"
      },
      "source": [
        "data_frame ['Thermal Generation Actual (in MU)'] = data_frame['Thermal Generation Actual (in MU)'].str.replace(',','')\n",
        "data_frame ['Thermal Generation Estimated (in MU)'] =  data_frame['Thermal Generation Estimated (in MU)'].str.replace(',','')"
      ],
      "execution_count": null,
      "outputs": []
    },
    {
      "cell_type": "code",
      "metadata": {
        "id": "kMMFyiouB6A-"
      },
      "source": [
        "data_frame['Thermal Generation Actual (in MU)'] = data_frame['Thermal Generation Actual (in MU)'].astype(np.float)\n",
        "data_frame['Thermal Generation Estimated (in MU)'] = data_frame['Thermal Generation Estimated (in MU)'].astype(np.float)"
      ],
      "execution_count": null,
      "outputs": []
    },
    {
      "cell_type": "markdown",
      "metadata": {
        "id": "JpFzIGdmYJxH"
      },
      "source": [
        "# Checking/ Verifying the dataset and removing unwanted data and filling null and nan values."
      ]
    },
    {
      "cell_type": "code",
      "metadata": {
        "colab": {
          "base_uri": "https://localhost:8080/"
        },
        "id": "JYNMLgFm_rQj",
        "outputId": "39cb3842-e6a7-49ab-bae3-38d12665edbd"
      },
      "source": [
        "data_frame.isnull().sum()"
      ],
      "execution_count": null,
      "outputs": [
        {
          "output_type": "execute_result",
          "data": {
            "text/plain": [
              "index                                      0\n",
              "Date                                       0\n",
              "Region                                     0\n",
              "Thermal Generation Actual (in MU)          0\n",
              "Thermal Generation Estimated (in MU)       0\n",
              "Nuclear Generation Actual (in MU)       1978\n",
              "Nuclear Generation Estimated (in MU)    1978\n",
              "Hydro Generation Actual (in MU)            0\n",
              "Hydro Generation Estimated (in MU)         0\n",
              "dtype: int64"
            ]
          },
          "metadata": {
            "tags": []
          },
          "execution_count": 20
        }
      ]
    },
    {
      "cell_type": "code",
      "metadata": {
        "colab": {
          "base_uri": "https://localhost:8080/",
          "height": 304
        },
        "id": "XwkpcoxQ_WXE",
        "outputId": "1ef3886b-f484-4042-94b4-e6a9819e6545"
      },
      "source": [
        "data_frame.head()"
      ],
      "execution_count": null,
      "outputs": [
        {
          "output_type": "execute_result",
          "data": {
            "text/html": [
              "<div>\n",
              "<style scoped>\n",
              "    .dataframe tbody tr th:only-of-type {\n",
              "        vertical-align: middle;\n",
              "    }\n",
              "\n",
              "    .dataframe tbody tr th {\n",
              "        vertical-align: top;\n",
              "    }\n",
              "\n",
              "    .dataframe thead th {\n",
              "        text-align: right;\n",
              "    }\n",
              "</style>\n",
              "<table border=\"1\" class=\"dataframe\">\n",
              "  <thead>\n",
              "    <tr style=\"text-align: right;\">\n",
              "      <th></th>\n",
              "      <th>index</th>\n",
              "      <th>Date</th>\n",
              "      <th>Region</th>\n",
              "      <th>Thermal Generation Actual (in MU)</th>\n",
              "      <th>Thermal Generation Estimated (in MU)</th>\n",
              "      <th>Nuclear Generation Actual (in MU)</th>\n",
              "      <th>Nuclear Generation Estimated (in MU)</th>\n",
              "      <th>Hydro Generation Actual (in MU)</th>\n",
              "      <th>Hydro Generation Estimated (in MU)</th>\n",
              "    </tr>\n",
              "  </thead>\n",
              "  <tbody>\n",
              "    <tr>\n",
              "      <th>0</th>\n",
              "      <td>0</td>\n",
              "      <td>2017-09-01</td>\n",
              "      <td>Northern</td>\n",
              "      <td>624.23</td>\n",
              "      <td>484.21</td>\n",
              "      <td>30.36</td>\n",
              "      <td>35.57</td>\n",
              "      <td>273.27</td>\n",
              "      <td>320.81</td>\n",
              "    </tr>\n",
              "    <tr>\n",
              "      <th>1</th>\n",
              "      <td>1</td>\n",
              "      <td>2017-09-01</td>\n",
              "      <td>Western</td>\n",
              "      <td>1,106.89</td>\n",
              "      <td>1,024.33</td>\n",
              "      <td>25.17</td>\n",
              "      <td>3.81</td>\n",
              "      <td>72.00</td>\n",
              "      <td>21.53</td>\n",
              "    </tr>\n",
              "    <tr>\n",
              "      <th>2</th>\n",
              "      <td>2</td>\n",
              "      <td>2017-09-01</td>\n",
              "      <td>Southern</td>\n",
              "      <td>576.66</td>\n",
              "      <td>578.55</td>\n",
              "      <td>62.73</td>\n",
              "      <td>49.80</td>\n",
              "      <td>111.57</td>\n",
              "      <td>64.78</td>\n",
              "    </tr>\n",
              "    <tr>\n",
              "      <th>3</th>\n",
              "      <td>3</td>\n",
              "      <td>2017-09-01</td>\n",
              "      <td>Eastern</td>\n",
              "      <td>441.02</td>\n",
              "      <td>429.39</td>\n",
              "      <td>NaN</td>\n",
              "      <td>NaN</td>\n",
              "      <td>85.94</td>\n",
              "      <td>69.36</td>\n",
              "    </tr>\n",
              "    <tr>\n",
              "      <th>4</th>\n",
              "      <td>4</td>\n",
              "      <td>2017-09-01</td>\n",
              "      <td>NorthEastern</td>\n",
              "      <td>29.11</td>\n",
              "      <td>15.91</td>\n",
              "      <td>NaN</td>\n",
              "      <td>NaN</td>\n",
              "      <td>24.64</td>\n",
              "      <td>21.21</td>\n",
              "    </tr>\n",
              "  </tbody>\n",
              "</table>\n",
              "</div>"
            ],
            "text/plain": [
              "   index  ... Hydro Generation Estimated (in MU)\n",
              "0      0  ...                             320.81\n",
              "1      1  ...                              21.53\n",
              "2      2  ...                              64.78\n",
              "3      3  ...                              69.36\n",
              "4      4  ...                              21.21\n",
              "\n",
              "[5 rows x 9 columns]"
            ]
          },
          "metadata": {
            "tags": []
          },
          "execution_count": 19
        }
      ]
    },
    {
      "cell_type": "code",
      "metadata": {
        "colab": {
          "base_uri": "https://localhost:8080/"
        },
        "id": "Cd4VyO-H_2Fm",
        "outputId": "c063c78e-8ec4-4d77-bb0e-6e428ba8529d"
      },
      "source": [
        "data_frame.isna().sum()"
      ],
      "execution_count": null,
      "outputs": [
        {
          "output_type": "execute_result",
          "data": {
            "text/plain": [
              "index                                      0\n",
              "Date                                       0\n",
              "Region                                     0\n",
              "Thermal Generation Actual (in MU)          0\n",
              "Thermal Generation Estimated (in MU)       0\n",
              "Nuclear Generation Actual (in MU)       1978\n",
              "Nuclear Generation Estimated (in MU)    1978\n",
              "Hydro Generation Actual (in MU)            0\n",
              "Hydro Generation Estimated (in MU)         0\n",
              "dtype: int64"
            ]
          },
          "metadata": {
            "tags": []
          },
          "execution_count": 21
        }
      ]
    },
    {
      "cell_type": "code",
      "metadata": {
        "colab": {
          "base_uri": "https://localhost:8080/",
          "height": 234
        },
        "id": "8865HGHV_99N",
        "outputId": "664afcef-6145-4bf7-a586-bd855c21c81a"
      },
      "source": [
        "data_frame.groupby(by = ['Region']).sum()"
      ],
      "execution_count": null,
      "outputs": [
        {
          "output_type": "execute_result",
          "data": {
            "text/html": [
              "<div>\n",
              "<style scoped>\n",
              "    .dataframe tbody tr th:only-of-type {\n",
              "        vertical-align: middle;\n",
              "    }\n",
              "\n",
              "    .dataframe tbody tr th {\n",
              "        vertical-align: top;\n",
              "    }\n",
              "\n",
              "    .dataframe thead th {\n",
              "        text-align: right;\n",
              "    }\n",
              "</style>\n",
              "<table border=\"1\" class=\"dataframe\">\n",
              "  <thead>\n",
              "    <tr style=\"text-align: right;\">\n",
              "      <th></th>\n",
              "      <th>index</th>\n",
              "      <th>Nuclear Generation Actual (in MU)</th>\n",
              "      <th>Nuclear Generation Estimated (in MU)</th>\n",
              "      <th>Hydro Generation Actual (in MU)</th>\n",
              "      <th>Hydro Generation Estimated (in MU)</th>\n",
              "    </tr>\n",
              "    <tr>\n",
              "      <th>Region</th>\n",
              "      <th></th>\n",
              "      <th></th>\n",
              "      <th></th>\n",
              "      <th></th>\n",
              "      <th></th>\n",
              "    </tr>\n",
              "  </thead>\n",
              "  <tbody>\n",
              "    <tr>\n",
              "      <th>Eastern</th>\n",
              "      <td>2158427</td>\n",
              "      <td>0.00</td>\n",
              "      <td>0.00</td>\n",
              "      <td>48686.62</td>\n",
              "      <td>52461.95</td>\n",
              "    </tr>\n",
              "    <tr>\n",
              "      <th>NorthEastern</th>\n",
              "      <td>2159416</td>\n",
              "      <td>0.00</td>\n",
              "      <td>0.00</td>\n",
              "      <td>17612.32</td>\n",
              "      <td>14058.66</td>\n",
              "    </tr>\n",
              "    <tr>\n",
              "      <th>Northern</th>\n",
              "      <td>2155460</td>\n",
              "      <td>26964.08</td>\n",
              "      <td>31378.94</td>\n",
              "      <td>188854.16</td>\n",
              "      <td>201204.03</td>\n",
              "    </tr>\n",
              "    <tr>\n",
              "      <th>Southern</th>\n",
              "      <td>2157438</td>\n",
              "      <td>55855.21</td>\n",
              "      <td>46483.24</td>\n",
              "      <td>71109.34</td>\n",
              "      <td>77083.80</td>\n",
              "    </tr>\n",
              "    <tr>\n",
              "      <th>Western</th>\n",
              "      <td>2156449</td>\n",
              "      <td>27678.34</td>\n",
              "      <td>31880.85</td>\n",
              "      <td>36235.34</td>\n",
              "      <td>35180.02</td>\n",
              "    </tr>\n",
              "  </tbody>\n",
              "</table>\n",
              "</div>"
            ],
            "text/plain": [
              "                index  ...  Hydro Generation Estimated (in MU)\n",
              "Region                 ...                                    \n",
              "Eastern       2158427  ...                            52461.95\n",
              "NorthEastern  2159416  ...                            14058.66\n",
              "Northern      2155460  ...                           201204.03\n",
              "Southern      2157438  ...                            77083.80\n",
              "Western       2156449  ...                            35180.02\n",
              "\n",
              "[5 rows x 5 columns]"
            ]
          },
          "metadata": {
            "tags": []
          },
          "execution_count": 22
        }
      ]
    },
    {
      "cell_type": "code",
      "metadata": {
        "id": "p0Z-uFg_AHfB"
      },
      "source": [
        "data_frame = data_frame.fillna(0)"
      ],
      "execution_count": null,
      "outputs": []
    },
    {
      "cell_type": "code",
      "metadata": {
        "colab": {
          "base_uri": "https://localhost:8080/",
          "height": 203
        },
        "id": "RIDbkNluAUbN",
        "outputId": "0578a21f-edea-4672-e6a5-fc6e47631728"
      },
      "source": [
        "data_frame.groupby(by = ['Region'],as_index = False).sum()"
      ],
      "execution_count": null,
      "outputs": [
        {
          "output_type": "execute_result",
          "data": {
            "text/html": [
              "<div>\n",
              "<style scoped>\n",
              "    .dataframe tbody tr th:only-of-type {\n",
              "        vertical-align: middle;\n",
              "    }\n",
              "\n",
              "    .dataframe tbody tr th {\n",
              "        vertical-align: top;\n",
              "    }\n",
              "\n",
              "    .dataframe thead th {\n",
              "        text-align: right;\n",
              "    }\n",
              "</style>\n",
              "<table border=\"1\" class=\"dataframe\">\n",
              "  <thead>\n",
              "    <tr style=\"text-align: right;\">\n",
              "      <th></th>\n",
              "      <th>Region</th>\n",
              "      <th>index</th>\n",
              "      <th>Nuclear Generation Actual (in MU)</th>\n",
              "      <th>Nuclear Generation Estimated (in MU)</th>\n",
              "      <th>Hydro Generation Actual (in MU)</th>\n",
              "      <th>Hydro Generation Estimated (in MU)</th>\n",
              "    </tr>\n",
              "  </thead>\n",
              "  <tbody>\n",
              "    <tr>\n",
              "      <th>0</th>\n",
              "      <td>Eastern</td>\n",
              "      <td>2158427</td>\n",
              "      <td>0.00</td>\n",
              "      <td>0.00</td>\n",
              "      <td>48686.62</td>\n",
              "      <td>52461.95</td>\n",
              "    </tr>\n",
              "    <tr>\n",
              "      <th>1</th>\n",
              "      <td>NorthEastern</td>\n",
              "      <td>2159416</td>\n",
              "      <td>0.00</td>\n",
              "      <td>0.00</td>\n",
              "      <td>17612.32</td>\n",
              "      <td>14058.66</td>\n",
              "    </tr>\n",
              "    <tr>\n",
              "      <th>2</th>\n",
              "      <td>Northern</td>\n",
              "      <td>2155460</td>\n",
              "      <td>26964.08</td>\n",
              "      <td>31378.94</td>\n",
              "      <td>188854.16</td>\n",
              "      <td>201204.03</td>\n",
              "    </tr>\n",
              "    <tr>\n",
              "      <th>3</th>\n",
              "      <td>Southern</td>\n",
              "      <td>2157438</td>\n",
              "      <td>55855.21</td>\n",
              "      <td>46483.24</td>\n",
              "      <td>71109.34</td>\n",
              "      <td>77083.80</td>\n",
              "    </tr>\n",
              "    <tr>\n",
              "      <th>4</th>\n",
              "      <td>Western</td>\n",
              "      <td>2156449</td>\n",
              "      <td>27678.34</td>\n",
              "      <td>31880.85</td>\n",
              "      <td>36235.34</td>\n",
              "      <td>35180.02</td>\n",
              "    </tr>\n",
              "  </tbody>\n",
              "</table>\n",
              "</div>"
            ],
            "text/plain": [
              "         Region  ...  Hydro Generation Estimated (in MU)\n",
              "0       Eastern  ...                            52461.95\n",
              "1  NorthEastern  ...                            14058.66\n",
              "2      Northern  ...                           201204.03\n",
              "3      Southern  ...                            77083.80\n",
              "4       Western  ...                            35180.02\n",
              "\n",
              "[5 rows x 6 columns]"
            ]
          },
          "metadata": {
            "tags": []
          },
          "execution_count": 24
        }
      ]
    },
    {
      "cell_type": "code",
      "metadata": {
        "colab": {
          "base_uri": "https://localhost:8080/",
          "height": 234
        },
        "id": "2Dtnz61VAl9d",
        "outputId": "30c68f5f-a6a4-457b-d830-d855df69d155"
      },
      "source": [
        "data_frame.groupby(by = ['Region']).mean()"
      ],
      "execution_count": null,
      "outputs": [
        {
          "output_type": "execute_result",
          "data": {
            "text/html": [
              "<div>\n",
              "<style scoped>\n",
              "    .dataframe tbody tr th:only-of-type {\n",
              "        vertical-align: middle;\n",
              "    }\n",
              "\n",
              "    .dataframe tbody tr th {\n",
              "        vertical-align: top;\n",
              "    }\n",
              "\n",
              "    .dataframe thead th {\n",
              "        text-align: right;\n",
              "    }\n",
              "</style>\n",
              "<table border=\"1\" class=\"dataframe\">\n",
              "  <thead>\n",
              "    <tr style=\"text-align: right;\">\n",
              "      <th></th>\n",
              "      <th>index</th>\n",
              "      <th>Nuclear Generation Actual (in MU)</th>\n",
              "      <th>Nuclear Generation Estimated (in MU)</th>\n",
              "      <th>Hydro Generation Actual (in MU)</th>\n",
              "      <th>Hydro Generation Estimated (in MU)</th>\n",
              "    </tr>\n",
              "    <tr>\n",
              "      <th>Region</th>\n",
              "      <th></th>\n",
              "      <th></th>\n",
              "      <th></th>\n",
              "      <th></th>\n",
              "      <th></th>\n",
              "    </tr>\n",
              "  </thead>\n",
              "  <tbody>\n",
              "    <tr>\n",
              "      <th>Eastern</th>\n",
              "      <td>2182.433771</td>\n",
              "      <td>0.000000</td>\n",
              "      <td>0.000000</td>\n",
              "      <td>49.228129</td>\n",
              "      <td>53.045450</td>\n",
              "    </tr>\n",
              "    <tr>\n",
              "      <th>NorthEastern</th>\n",
              "      <td>2183.433771</td>\n",
              "      <td>0.000000</td>\n",
              "      <td>0.000000</td>\n",
              "      <td>17.808210</td>\n",
              "      <td>14.215025</td>\n",
              "    </tr>\n",
              "    <tr>\n",
              "      <th>Northern</th>\n",
              "      <td>2179.433771</td>\n",
              "      <td>27.263984</td>\n",
              "      <td>31.727947</td>\n",
              "      <td>190.954661</td>\n",
              "      <td>203.441891</td>\n",
              "    </tr>\n",
              "    <tr>\n",
              "      <th>Southern</th>\n",
              "      <td>2181.433771</td>\n",
              "      <td>56.476451</td>\n",
              "      <td>47.000243</td>\n",
              "      <td>71.900243</td>\n",
              "      <td>77.941153</td>\n",
              "    </tr>\n",
              "    <tr>\n",
              "      <th>Western</th>\n",
              "      <td>2180.433771</td>\n",
              "      <td>27.986188</td>\n",
              "      <td>32.235440</td>\n",
              "      <td>36.638362</td>\n",
              "      <td>35.571304</td>\n",
              "    </tr>\n",
              "  </tbody>\n",
              "</table>\n",
              "</div>"
            ],
            "text/plain": [
              "                    index  ...  Hydro Generation Estimated (in MU)\n",
              "Region                     ...                                    \n",
              "Eastern       2182.433771  ...                           53.045450\n",
              "NorthEastern  2183.433771  ...                           14.215025\n",
              "Northern      2179.433771  ...                          203.441891\n",
              "Southern      2181.433771  ...                           77.941153\n",
              "Western       2180.433771  ...                           35.571304\n",
              "\n",
              "[5 rows x 5 columns]"
            ]
          },
          "metadata": {
            "tags": []
          },
          "execution_count": 25
        }
      ]
    },
    {
      "cell_type": "markdown",
      "metadata": {
        "id": "N2VO9hBLpgv-"
      },
      "source": [
        "# Data Visualization"
      ]
    },
    {
      "cell_type": "markdown",
      "metadata": {
        "id": "g0e61NVuuOru"
      },
      "source": [
        "## For Nuclear generation."
      ]
    },
    {
      "cell_type": "code",
      "metadata": {
        "colab": {
          "base_uri": "https://localhost:8080/",
          "height": 516
        },
        "id": "DBuxDXedp3aN",
        "outputId": "bfabe7bd-ae4b-4ed3-8d77-108d0c7bfa79"
      },
      "source": [
        "fig=plt.figure(figsize=(16,8))\n",
        "axis1= fig.add_subplot(121)\n",
        "plot1 = plt.scatter(data_frame['Region'],data_frame['Nuclear Generation Estimated (in MU)'],color='grey')\n",
        "axis1.set_title('Region Vs Nuclear Generation Estimated (Atominc Mass Unit)')\n",
        "axis2= fig.add_subplot(122)\n",
        "plot2 = plt.scatter(data_frame['Region'],data_frame['Nuclear Generation Actual (in MU)'])\n",
        "axis2.set_title('Region Vs Nuclear Generation Actual (Atomin Mass Unit)')\n",
        "axis1.legend(loc=0)\n",
        "plt.show()"
      ],
      "execution_count": null,
      "outputs": [
        {
          "output_type": "stream",
          "text": [
            "No handles with labels found to put in legend.\n"
          ],
          "name": "stderr"
        },
        {
          "output_type": "display_data",
          "data": {
            "image/png": "[encoded data removed]",
            "text/plain": [
              "<Figure size 1152x576 with 2 Axes>"
            ]
          },
          "metadata": {
            "tags": [],
            "needs_background": "light"
          }
        }
      ]
    },
    {
      "cell_type": "markdown",
      "metadata": {
        "id": "-NgR2qcOt9B5"
      },
      "source": [
        "## For Thermal Generation."
      ]
    },
    {
      "cell_type": "code",
      "metadata": {
        "colab": {
          "base_uri": "https://localhost:8080/",
          "height": 516
        },
        "id": "PH6Z4JM3swvX",
        "outputId": "e605ec9c-0566-4d82-b118-6b9b55a86908"
      },
      "source": [
        "fig=plt.figure(figsize=(16,8))\n",
        "axis1= fig.add_subplot(121)\n",
        "plot1 = plt.scatter(data_frame['Region'],data_frame['Thermal Generation Actual (in MU)'],color='black')\n",
        "axis1.set_title('Region Vs Thermal Generation Actual (Atomic Mass Unit)')\n",
        "axis2= fig.add_subplot(122)\n",
        "plot2 = plt.scatter(data_frame['Region'],data_frame['Thermal Generation Estimated (in MU)'])\n",
        "axis2.set_title('Region Vs Thermal Generation Estimated (Atomic Mass Unit)')"
      ],
      "execution_count": null,
      "outputs": [
        {
          "output_type": "execute_result",
          "data": {
            "text/plain": [
              "Text(0.5, 1.0, 'Region Vs Thermal Generation Estimated (Atomic Mass Unit)')"
            ]
          },
          "metadata": {
            "tags": []
          },
          "execution_count": 52
        },
        {
          "output_type": "display_data",
          "data": {
            "image/png": "[encoded data removed]",
            "text/plain": [
              "<Figure size 1152x576 with 2 Axes>"
            ]
          },
          "metadata": {
            "tags": [],
            "needs_background": "light"
          }
        }
      ]
    },
    {
      "cell_type": "markdown",
      "metadata": {
        "id": "S-HUsICBuFhK"
      },
      "source": [
        "## For Hydro Generation."
      ]
    },
    {
      "cell_type": "code",
      "metadata": {
        "colab": {
          "base_uri": "https://localhost:8080/",
          "height": 499
        },
        "id": "oTkBXqbys5Ub",
        "outputId": "0316d0fe-d66e-4d18-beef-abccff4e6f65"
      },
      "source": [
        "fig=plt.figure(figsize=(16,8))\n",
        "axis1= fig.add_subplot(121)\n",
        "plot1 = plt.scatter(data_frame['Region'],data_frame['Hydro Generation Actual (in MU)'],color='orange')\n",
        "axis1.set_title('Region Vs Hydro Generation Actual (Atomic Mass Unit)')\n",
        "axis2= fig.add_subplot(122)\n",
        "plot2 = plt.scatter(data_frame['Region'],data_frame['Hydro Generation Estimated (in MU)'])\n",
        "axis2.set_title('Region Vs Hydro Generation Estimated (Atomic Mass Unit)')\n",
        "plt.show()"
      ],
      "execution_count": null,
      "outputs": [
        {
          "output_type": "display_data",
          "data": {
            "image/png": "[encoded data removed]",
            "text/plain": [
              "<Figure size 1152x576 with 2 Axes>"
            ]
          },
          "metadata": {
            "tags": [],
            "needs_background": "light"
          }
        }
      ]
    },
    {
      "cell_type": "markdown",
      "metadata": {
        "id": "cuibMf7txuEJ"
      },
      "source": [
        "# Regression"
      ]
    },
    {
      "cell_type": "markdown",
      "metadata": {
        "id": "kvpMy3QKJwph"
      },
      "source": [
        "## Hydro Generation"
      ]
    },
    {
      "cell_type": "code",
      "metadata": {
        "id": "DCguh4aeDs7F"
      },
      "source": [
        "mean_of_power = data_frame.groupby('Date',as_index=False).mean()"
      ],
      "execution_count": null,
      "outputs": []
    },
    {
      "cell_type": "code",
      "metadata": {
        "colab": {
          "base_uri": "https://localhost:8080/",
          "height": 602
        },
        "id": "osa1H5SFD8gQ",
        "outputId": "74b9bae6-3ac2-49d5-b2c1-6eeff9a27fb5"
      },
      "source": [
        "mean_of_power"
      ],
      "execution_count": null,
      "outputs": [
        {
          "output_type": "execute_result",
          "data": {
            "text/html": [
              "<div>\n",
              "<style scoped>\n",
              "    .dataframe tbody tr th:only-of-type {\n",
              "        vertical-align: middle;\n",
              "    }\n",
              "\n",
              "    .dataframe tbody tr th {\n",
              "        vertical-align: top;\n",
              "    }\n",
              "\n",
              "    .dataframe thead th {\n",
              "        text-align: right;\n",
              "    }\n",
              "</style>\n",
              "<table border=\"1\" class=\"dataframe\">\n",
              "  <thead>\n",
              "    <tr style=\"text-align: right;\">\n",
              "      <th></th>\n",
              "      <th>Date</th>\n",
              "      <th>index</th>\n",
              "      <th>Thermal Generation Actual (in MU)</th>\n",
              "      <th>Thermal Generation Estimated (in MU)</th>\n",
              "      <th>Nuclear Generation Actual (in MU)</th>\n",
              "      <th>Nuclear Generation Estimated (in MU)</th>\n",
              "      <th>Hydro Generation Actual (in MU)</th>\n",
              "      <th>Hydro Generation Estimated (in MU)</th>\n",
              "    </tr>\n",
              "  </thead>\n",
              "  <tbody>\n",
              "    <tr>\n",
              "      <th>0</th>\n",
              "      <td>2017-09-01</td>\n",
              "      <td>2</td>\n",
              "      <td>555.582</td>\n",
              "      <td>506.478</td>\n",
              "      <td>23.652</td>\n",
              "      <td>17.836</td>\n",
              "      <td>113.484</td>\n",
              "      <td>99.538</td>\n",
              "    </tr>\n",
              "    <tr>\n",
              "      <th>1</th>\n",
              "      <td>2017-09-02</td>\n",
              "      <td>7</td>\n",
              "      <td>555.582</td>\n",
              "      <td>512.674</td>\n",
              "      <td>23.652</td>\n",
              "      <td>18.456</td>\n",
              "      <td>113.484</td>\n",
              "      <td>99.128</td>\n",
              "    </tr>\n",
              "    <tr>\n",
              "      <th>2</th>\n",
              "      <td>2017-09-03</td>\n",
              "      <td>12</td>\n",
              "      <td>555.554</td>\n",
              "      <td>506.646</td>\n",
              "      <td>23.652</td>\n",
              "      <td>18.514</td>\n",
              "      <td>113.484</td>\n",
              "      <td>94.610</td>\n",
              "    </tr>\n",
              "    <tr>\n",
              "      <th>3</th>\n",
              "      <td>2017-09-04</td>\n",
              "      <td>17</td>\n",
              "      <td>555.554</td>\n",
              "      <td>542.856</td>\n",
              "      <td>23.652</td>\n",
              "      <td>18.524</td>\n",
              "      <td>113.484</td>\n",
              "      <td>100.072</td>\n",
              "    </tr>\n",
              "    <tr>\n",
              "      <th>4</th>\n",
              "      <td>2017-09-05</td>\n",
              "      <td>22</td>\n",
              "      <td>558.170</td>\n",
              "      <td>555.930</td>\n",
              "      <td>23.652</td>\n",
              "      <td>18.542</td>\n",
              "      <td>113.484</td>\n",
              "      <td>94.032</td>\n",
              "    </tr>\n",
              "    <tr>\n",
              "      <th>...</th>\n",
              "      <td>...</td>\n",
              "      <td>...</td>\n",
              "      <td>...</td>\n",
              "      <td>...</td>\n",
              "      <td>...</td>\n",
              "      <td>...</td>\n",
              "      <td>...</td>\n",
              "      <td>...</td>\n",
              "    </tr>\n",
              "    <tr>\n",
              "      <th>984</th>\n",
              "      <td>2020-07-28</td>\n",
              "      <td>287</td>\n",
              "      <td>592.326</td>\n",
              "      <td>597.208</td>\n",
              "      <td>26.216</td>\n",
              "      <td>17.864</td>\n",
              "      <td>105.154</td>\n",
              "      <td>117.900</td>\n",
              "    </tr>\n",
              "    <tr>\n",
              "      <th>985</th>\n",
              "      <td>2020-07-29</td>\n",
              "      <td>292</td>\n",
              "      <td>592.326</td>\n",
              "      <td>583.772</td>\n",
              "      <td>26.216</td>\n",
              "      <td>18.056</td>\n",
              "      <td>105.154</td>\n",
              "      <td>113.962</td>\n",
              "    </tr>\n",
              "    <tr>\n",
              "      <th>986</th>\n",
              "      <td>2020-07-30</td>\n",
              "      <td>297</td>\n",
              "      <td>594.872</td>\n",
              "      <td>576.776</td>\n",
              "      <td>26.216</td>\n",
              "      <td>17.128</td>\n",
              "      <td>105.154</td>\n",
              "      <td>113.956</td>\n",
              "    </tr>\n",
              "    <tr>\n",
              "      <th>987</th>\n",
              "      <td>2020-07-31</td>\n",
              "      <td>302</td>\n",
              "      <td>596.800</td>\n",
              "      <td>588.622</td>\n",
              "      <td>26.216</td>\n",
              "      <td>17.134</td>\n",
              "      <td>105.154</td>\n",
              "      <td>115.826</td>\n",
              "    </tr>\n",
              "    <tr>\n",
              "      <th>988</th>\n",
              "      <td>2020-08-01</td>\n",
              "      <td>307</td>\n",
              "      <td>559.482</td>\n",
              "      <td>572.086</td>\n",
              "      <td>26.216</td>\n",
              "      <td>17.264</td>\n",
              "      <td>122.794</td>\n",
              "      <td>114.650</td>\n",
              "    </tr>\n",
              "  </tbody>\n",
              "</table>\n",
              "<p>989 rows × 8 columns</p>\n",
              "</div>"
            ],
            "text/plain": [
              "           Date  ...  Hydro Generation Estimated (in MU)\n",
              "0    2017-09-01  ...                              99.538\n",
              "1    2017-09-02  ...                              99.128\n",
              "2    2017-09-03  ...                              94.610\n",
              "3    2017-09-04  ...                             100.072\n",
              "4    2017-09-05  ...                              94.032\n",
              "..          ...  ...                                 ...\n",
              "984  2020-07-28  ...                             117.900\n",
              "985  2020-07-29  ...                             113.962\n",
              "986  2020-07-30  ...                             113.956\n",
              "987  2020-07-31  ...                             115.826\n",
              "988  2020-08-01  ...                             114.650\n",
              "\n",
              "[989 rows x 8 columns]"
            ]
          },
          "metadata": {
            "tags": []
          },
          "execution_count": 31
        }
      ]
    },
    {
      "cell_type": "code",
      "metadata": {
        "colab": {
          "base_uri": "https://localhost:8080/"
        },
        "id": "DMB5r-tnE0h9",
        "outputId": "25e86785-a39b-4018-b199-df625773653d"
      },
      "source": [
        "mean_of_power.info()"
      ],
      "execution_count": null,
      "outputs": [
        {
          "output_type": "stream",
          "text": [
            "<class 'pandas.core.frame.DataFrame'>\n",
            "Int64Index: 989 entries, 0 to 988\n",
            "Data columns (total 8 columns):\n",
            " #   Column                                Non-Null Count  Dtype  \n",
            "---  ------                                --------------  -----  \n",
            " 0   Date                                  989 non-null    object \n",
            " 1   index                                 989 non-null    int64  \n",
            " 2   Thermal Generation Actual (in MU)     989 non-null    float64\n",
            " 3   Thermal Generation Estimated (in MU)  989 non-null    float64\n",
            " 4   Nuclear Generation Actual (in MU)     989 non-null    float64\n",
            " 5   Nuclear Generation Estimated (in MU)  989 non-null    float64\n",
            " 6   Hydro Generation Actual (in MU)       989 non-null    float64\n",
            " 7   Hydro Generation Estimated (in MU)    989 non-null    float64\n",
            "dtypes: float64(6), int64(1), object(1)\n",
            "memory usage: 69.5+ KB\n"
          ],
          "name": "stdout"
        }
      ]
    },
    {
      "cell_type": "code",
      "metadata": {
        "id": "G-quN2g8E9uI"
      },
      "source": [
        "mean_of_thermal = mean_of_power [['Hydro Generation Estimated (in MU)','Hydro Generation Actual (in MU)']] "
      ],
      "execution_count": null,
      "outputs": []
    },
    {
      "cell_type": "code",
      "metadata": {
        "colab": {
          "base_uri": "https://localhost:8080/",
          "height": 417
        },
        "id": "dTND-aEtFgC9",
        "outputId": "e32b81ae-b816-4650-f325-90281e60b171"
      },
      "source": [
        "mean_of_thermal"
      ],
      "execution_count": null,
      "outputs": [
        {
          "output_type": "execute_result",
          "data": {
            "text/html": [
              "<div>\n",
              "<style scoped>\n",
              "    .dataframe tbody tr th:only-of-type {\n",
              "        vertical-align: middle;\n",
              "    }\n",
              "\n",
              "    .dataframe tbody tr th {\n",
              "        vertical-align: top;\n",
              "    }\n",
              "\n",
              "    .dataframe thead th {\n",
              "        text-align: right;\n",
              "    }\n",
              "</style>\n",
              "<table border=\"1\" class=\"dataframe\">\n",
              "  <thead>\n",
              "    <tr style=\"text-align: right;\">\n",
              "      <th></th>\n",
              "      <th>Hydro Generation Estimated (in MU)</th>\n",
              "      <th>Hydro Generation Actual (in MU)</th>\n",
              "    </tr>\n",
              "  </thead>\n",
              "  <tbody>\n",
              "    <tr>\n",
              "      <th>0</th>\n",
              "      <td>99.538</td>\n",
              "      <td>113.484</td>\n",
              "    </tr>\n",
              "    <tr>\n",
              "      <th>1</th>\n",
              "      <td>99.128</td>\n",
              "      <td>113.484</td>\n",
              "    </tr>\n",
              "    <tr>\n",
              "      <th>2</th>\n",
              "      <td>94.610</td>\n",
              "      <td>113.484</td>\n",
              "    </tr>\n",
              "    <tr>\n",
              "      <th>3</th>\n",
              "      <td>100.072</td>\n",
              "      <td>113.484</td>\n",
              "    </tr>\n",
              "    <tr>\n",
              "      <th>4</th>\n",
              "      <td>94.032</td>\n",
              "      <td>113.484</td>\n",
              "    </tr>\n",
              "    <tr>\n",
              "      <th>...</th>\n",
              "      <td>...</td>\n",
              "      <td>...</td>\n",
              "    </tr>\n",
              "    <tr>\n",
              "      <th>984</th>\n",
              "      <td>117.900</td>\n",
              "      <td>105.154</td>\n",
              "    </tr>\n",
              "    <tr>\n",
              "      <th>985</th>\n",
              "      <td>113.962</td>\n",
              "      <td>105.154</td>\n",
              "    </tr>\n",
              "    <tr>\n",
              "      <th>986</th>\n",
              "      <td>113.956</td>\n",
              "      <td>105.154</td>\n",
              "    </tr>\n",
              "    <tr>\n",
              "      <th>987</th>\n",
              "      <td>115.826</td>\n",
              "      <td>105.154</td>\n",
              "    </tr>\n",
              "    <tr>\n",
              "      <th>988</th>\n",
              "      <td>114.650</td>\n",
              "      <td>122.794</td>\n",
              "    </tr>\n",
              "  </tbody>\n",
              "</table>\n",
              "<p>989 rows × 2 columns</p>\n",
              "</div>"
            ],
            "text/plain": [
              "     Hydro Generation Estimated (in MU)  Hydro Generation Actual (in MU)\n",
              "0                                99.538                          113.484\n",
              "1                                99.128                          113.484\n",
              "2                                94.610                          113.484\n",
              "3                               100.072                          113.484\n",
              "4                                94.032                          113.484\n",
              "..                                  ...                              ...\n",
              "984                             117.900                          105.154\n",
              "985                             113.962                          105.154\n",
              "986                             113.956                          105.154\n",
              "987                             115.826                          105.154\n",
              "988                             114.650                          122.794\n",
              "\n",
              "[989 rows x 2 columns]"
            ]
          },
          "metadata": {
            "tags": []
          },
          "execution_count": 34
        }
      ]
    },
    {
      "cell_type": "code",
      "metadata": {
        "id": "UL9wD14lGOdv"
      },
      "source": [
        "x = mean_of_thermal [['Hydro Generation Estimated (in MU)']].values\n",
        "\n",
        "y  = mean_of_thermal [['Hydro Generation Actual (in MU)']].values"
      ],
      "execution_count": null,
      "outputs": []
    },
    {
      "cell_type": "code",
      "metadata": {
        "id": "mDxR1pc7GjEa"
      },
      "source": [
        "x_train,x_test,y_train,y_test = train_test_split(x,y,test_size = 0.4,random_state = 1)"
      ],
      "execution_count": null,
      "outputs": []
    },
    {
      "cell_type": "code",
      "metadata": {
        "id": "_KaJJQstGx6S"
      },
      "source": [
        "regression = linear_model.LinearRegression()\n",
        "model = regression.fit(x_train,y_train)"
      ],
      "execution_count": null,
      "outputs": []
    },
    {
      "cell_type": "code",
      "metadata": {
        "id": "FOGJGYxSG6wS"
      },
      "source": [
        "prediction = model.predict(x_test)"
      ],
      "execution_count": null,
      "outputs": []
    },
    {
      "cell_type": "code",
      "metadata": {
        "colab": {
          "base_uri": "https://localhost:8080/",
          "height": 880
        },
        "id": "HCFMdGLdH9cG",
        "outputId": "503538b8-488e-4ca6-cfff-589d6dea9a6b"
      },
      "source": [
        "plt.figure(figsize = (20,15))\n",
        "\n",
        "plt.scatter(x_test,y_test)\n",
        "\n",
        "plt.plot(x_test,prediction,color = 'orange')"
      ],
      "execution_count": null,
      "outputs": [
        {
          "output_type": "execute_result",
          "data": {
            "text/plain": [
              "[<matplotlib.lines.Line2D at 0x7fa733707810>]"
            ]
          },
          "metadata": {
            "tags": []
          },
          "execution_count": 39
        },
        {
          "output_type": "display_data",
          "data": {
            "image/png": "[encoded data removed]",
            "text/plain": [
              "<Figure size 1440x1080 with 1 Axes>"
            ]
          },
          "metadata": {
            "tags": [],
            "needs_background": "light"
          }
        }
      ]
    },
    {
      "cell_type": "code",
      "metadata": {
        "colab": {
          "base_uri": "https://localhost:8080/"
        },
        "id": "fVMk9uKDINzV",
        "outputId": "6ac57406-3559-44d9-d3b0-4876f4075d46"
      },
      "source": [
        "Training_score = {regression.score(x_train,y_train)}\n",
        "\n",
        "print('The Training Score is : {}.'.format(Training_score))"
      ],
      "execution_count": null,
      "outputs": [
        {
          "output_type": "stream",
          "text": [
            "The Training Score is : {0.8113740597539824}.\n"
          ],
          "name": "stdout"
        }
      ]
    },
    {
      "cell_type": "code",
      "metadata": {
        "colab": {
          "base_uri": "https://localhost:8080/"
        },
        "id": "P9eUWNt4IpHi",
        "outputId": "a16b3510-fd70-4935-e617-97dbf9d68892"
      },
      "source": [
        "Result = r2_score(y_test,prediction)\n",
        "\n",
        "print('The result is : {}.'.format(Result))"
      ],
      "execution_count": null,
      "outputs": [
        {
          "output_type": "stream",
          "text": [
            "The result is : 0.7882441826995892.\n"
          ],
          "name": "stdout"
        }
      ]
    },
    {
      "cell_type": "code",
      "metadata": {
        "id": "78Cc9j2XJnIU"
      },
      "source": [
        ""
      ],
      "execution_count": null,
      "outputs": []
    },
    {
      "cell_type": "markdown",
      "metadata": {
        "id": "SUxLUB8bKEnj"
      },
      "source": [
        "## Nuclear Generation"
      ]
    },
    {
      "cell_type": "code",
      "metadata": {
        "colab": {
          "base_uri": "https://localhost:8080/",
          "height": 618
        },
        "id": "kvy7wgPqKtP1",
        "outputId": "8ed8a3a7-005c-4282-d308-fe0fa4452ce2"
      },
      "source": [
        "mean_of_power"
      ],
      "execution_count": null,
      "outputs": [
        {
          "output_type": "execute_result",
          "data": {
            "text/html": [
              "<div>\n",
              "<style scoped>\n",
              "    .dataframe tbody tr th:only-of-type {\n",
              "        vertical-align: middle;\n",
              "    }\n",
              "\n",
              "    .dataframe tbody tr th {\n",
              "        vertical-align: top;\n",
              "    }\n",
              "\n",
              "    .dataframe thead th {\n",
              "        text-align: right;\n",
              "    }\n",
              "</style>\n",
              "<table border=\"1\" class=\"dataframe\">\n",
              "  <thead>\n",
              "    <tr style=\"text-align: right;\">\n",
              "      <th></th>\n",
              "      <th>Date</th>\n",
              "      <th>index</th>\n",
              "      <th>Thermal Generation Actual (in MU)</th>\n",
              "      <th>Thermal Generation Estimated (in MU)</th>\n",
              "      <th>Nuclear Generation Actual (in MU)</th>\n",
              "      <th>Nuclear Generation Estimated (in MU)</th>\n",
              "      <th>Hydro Generation Actual (in MU)</th>\n",
              "      <th>Hydro Generation Estimated (in MU)</th>\n",
              "    </tr>\n",
              "  </thead>\n",
              "  <tbody>\n",
              "    <tr>\n",
              "      <th>0</th>\n",
              "      <td>2017-09-01</td>\n",
              "      <td>2</td>\n",
              "      <td>555.582</td>\n",
              "      <td>506.478</td>\n",
              "      <td>23.652</td>\n",
              "      <td>17.836</td>\n",
              "      <td>113.484</td>\n",
              "      <td>99.538</td>\n",
              "    </tr>\n",
              "    <tr>\n",
              "      <th>1</th>\n",
              "      <td>2017-09-02</td>\n",
              "      <td>7</td>\n",
              "      <td>555.582</td>\n",
              "      <td>512.674</td>\n",
              "      <td>23.652</td>\n",
              "      <td>18.456</td>\n",
              "      <td>113.484</td>\n",
              "      <td>99.128</td>\n",
              "    </tr>\n",
              "    <tr>\n",
              "      <th>2</th>\n",
              "      <td>2017-09-03</td>\n",
              "      <td>12</td>\n",
              "      <td>555.554</td>\n",
              "      <td>506.646</td>\n",
              "      <td>23.652</td>\n",
              "      <td>18.514</td>\n",
              "      <td>113.484</td>\n",
              "      <td>94.610</td>\n",
              "    </tr>\n",
              "    <tr>\n",
              "      <th>3</th>\n",
              "      <td>2017-09-04</td>\n",
              "      <td>17</td>\n",
              "      <td>555.554</td>\n",
              "      <td>542.856</td>\n",
              "      <td>23.652</td>\n",
              "      <td>18.524</td>\n",
              "      <td>113.484</td>\n",
              "      <td>100.072</td>\n",
              "    </tr>\n",
              "    <tr>\n",
              "      <th>4</th>\n",
              "      <td>2017-09-05</td>\n",
              "      <td>22</td>\n",
              "      <td>558.170</td>\n",
              "      <td>555.930</td>\n",
              "      <td>23.652</td>\n",
              "      <td>18.542</td>\n",
              "      <td>113.484</td>\n",
              "      <td>94.032</td>\n",
              "    </tr>\n",
              "    <tr>\n",
              "      <th>...</th>\n",
              "      <td>...</td>\n",
              "      <td>...</td>\n",
              "      <td>...</td>\n",
              "      <td>...</td>\n",
              "      <td>...</td>\n",
              "      <td>...</td>\n",
              "      <td>...</td>\n",
              "      <td>...</td>\n",
              "    </tr>\n",
              "    <tr>\n",
              "      <th>984</th>\n",
              "      <td>2020-07-28</td>\n",
              "      <td>287</td>\n",
              "      <td>592.326</td>\n",
              "      <td>597.208</td>\n",
              "      <td>26.216</td>\n",
              "      <td>17.864</td>\n",
              "      <td>105.154</td>\n",
              "      <td>117.900</td>\n",
              "    </tr>\n",
              "    <tr>\n",
              "      <th>985</th>\n",
              "      <td>2020-07-29</td>\n",
              "      <td>292</td>\n",
              "      <td>592.326</td>\n",
              "      <td>583.772</td>\n",
              "      <td>26.216</td>\n",
              "      <td>18.056</td>\n",
              "      <td>105.154</td>\n",
              "      <td>113.962</td>\n",
              "    </tr>\n",
              "    <tr>\n",
              "      <th>986</th>\n",
              "      <td>2020-07-30</td>\n",
              "      <td>297</td>\n",
              "      <td>594.872</td>\n",
              "      <td>576.776</td>\n",
              "      <td>26.216</td>\n",
              "      <td>17.128</td>\n",
              "      <td>105.154</td>\n",
              "      <td>113.956</td>\n",
              "    </tr>\n",
              "    <tr>\n",
              "      <th>987</th>\n",
              "      <td>2020-07-31</td>\n",
              "      <td>302</td>\n",
              "      <td>596.800</td>\n",
              "      <td>588.622</td>\n",
              "      <td>26.216</td>\n",
              "      <td>17.134</td>\n",
              "      <td>105.154</td>\n",
              "      <td>115.826</td>\n",
              "    </tr>\n",
              "    <tr>\n",
              "      <th>988</th>\n",
              "      <td>2020-08-01</td>\n",
              "      <td>307</td>\n",
              "      <td>559.482</td>\n",
              "      <td>572.086</td>\n",
              "      <td>26.216</td>\n",
              "      <td>17.264</td>\n",
              "      <td>122.794</td>\n",
              "      <td>114.650</td>\n",
              "    </tr>\n",
              "  </tbody>\n",
              "</table>\n",
              "<p>989 rows × 8 columns</p>\n",
              "</div>"
            ],
            "text/plain": [
              "           Date  ...  Hydro Generation Estimated (in MU)\n",
              "0    2017-09-01  ...                              99.538\n",
              "1    2017-09-02  ...                              99.128\n",
              "2    2017-09-03  ...                              94.610\n",
              "3    2017-09-04  ...                             100.072\n",
              "4    2017-09-05  ...                              94.032\n",
              "..          ...  ...                                 ...\n",
              "984  2020-07-28  ...                             117.900\n",
              "985  2020-07-29  ...                             113.962\n",
              "986  2020-07-30  ...                             113.956\n",
              "987  2020-07-31  ...                             115.826\n",
              "988  2020-08-01  ...                             114.650\n",
              "\n",
              "[989 rows x 8 columns]"
            ]
          },
          "metadata": {
            "tags": []
          },
          "execution_count": 42
        }
      ]
    },
    {
      "cell_type": "code",
      "metadata": {
        "id": "ui8kJWdMn1th"
      },
      "source": [
        "x = mean_of_power [['Nuclear Generation Actual (in MU)']].values\n",
        "\n",
        "y  = mean_of_power [['Nuclear Generation Estimated (in MU)']].values"
      ],
      "execution_count": null,
      "outputs": []
    },
    {
      "cell_type": "code",
      "metadata": {
        "id": "evLgUAdIoeml"
      },
      "source": [
        "x_train,x_test,y_train,y_test = train_test_split(x,y,test_size = 0.4,random_state = 1)"
      ],
      "execution_count": null,
      "outputs": []
    },
    {
      "cell_type": "code",
      "metadata": {
        "id": "exfnu4ujoh0b"
      },
      "source": [
        "regression = linear_model.LinearRegression()\n",
        "model = regression.fit(x_train,y_train)"
      ],
      "execution_count": null,
      "outputs": []
    },
    {
      "cell_type": "code",
      "metadata": {
        "id": "H0dRVDWHokSO"
      },
      "source": [
        "prediction = model.predict(x_test)"
      ],
      "execution_count": null,
      "outputs": []
    },
    {
      "cell_type": "code",
      "metadata": {
        "colab": {
          "base_uri": "https://localhost:8080/",
          "height": 825
        },
        "id": "4V7iMWDoomt6",
        "outputId": "b17b0a8a-3b27-49d1-bc31-49c19b94a8b8"
      },
      "source": [
        "plt.figure(figsize = (20,15))\n",
        "\n",
        "plt.scatter(x_test,y_test)\n",
        "\n",
        "plt.plot(x_test,prediction,color = 'tomato')\n",
        "plt.legend()"
      ],
      "execution_count": null,
      "outputs": [
        {
          "output_type": "stream",
          "text": [
            "No handles with labels found to put in legend.\n"
          ],
          "name": "stderr"
        },
        {
          "output_type": "execute_result",
          "data": {
            "text/plain": [
              "<matplotlib.legend.Legend at 0x7fa730da3c50>"
            ]
          },
          "metadata": {
            "tags": []
          },
          "execution_count": 48
        },
        {
          "output_type": "display_data",
          "data": {
            "image/png": "[encoded data removed]",
            "text/plain": [
              "<Figure size 1440x1080 with 1 Axes>"
            ]
          },
          "metadata": {
            "tags": [],
            "needs_background": "light"
          }
        }
      ]
    }
  ]
}